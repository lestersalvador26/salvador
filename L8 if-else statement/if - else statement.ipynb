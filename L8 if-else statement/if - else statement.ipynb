{
 "cells": [
  {
   "cell_type": "markdown",
   "id": "c5e8a581",
   "metadata": {},
   "source": [
    "# if-else Statement <hr style=\"border:2.5px solid#126782\"></hr>"
   ]
  },
  {
   "cell_type": "markdown",
   "id": "0eab3fa0",
   "metadata": {},
   "source": [
    "Data Analyst: Marc Lester Salvador <br>Department: Electrical Engineering"
   ]
  },
  {
   "cell_type": "markdown",
   "id": "9f2cc45b",
   "metadata": {},
   "source": [
    "# if statement"
   ]
  },
  {
   "cell_type": "code",
   "execution_count": 1,
   "id": "ee1712e6",
   "metadata": {},
   "outputs": [
    {
     "name": "stdout",
     "output_type": "stream",
     "text": [
      "PASSED!\n"
     ]
    }
   ],
   "source": [
    "grade= 7.3\n",
    "if grade >= 5.0:\n",
    "        print(\"PASSED!\")"
   ]
  },
  {
   "cell_type": "code",
   "execution_count": 2,
   "id": "a010afbd",
   "metadata": {},
   "outputs": [
    {
     "name": "stdout",
     "output_type": "stream",
     "text": [
      "FAILED!\n"
     ]
    }
   ],
   "source": [
    "grade = 4.5\n",
    "# evaluate grade\n",
    "if grade >= 5.0:\n",
    "        print(\"PASSED!\")\n",
    "if grade < 5.0:\n",
    "        print(\"FAILED!\")"
   ]
  },
  {
   "cell_type": "markdown",
   "id": "fb38a534",
   "metadata": {},
   "source": [
    "# if-else statement"
   ]
  },
  {
   "cell_type": "code",
   "execution_count": 3,
   "id": "c07d5151",
   "metadata": {},
   "outputs": [
    {
     "name": "stdout",
     "output_type": "stream",
     "text": [
      "FAILED!\n"
     ]
    }
   ],
   "source": [
    "grade = 4.0\n",
    "# evaluate grade\n",
    "if grade >= 5.0:\n",
    "        print (\"PASAR\")\n",
    "else:\n",
    "        print (\"FAILED!\")\n"
   ]
  },
  {
   "cell_type": "markdown",
   "id": "3409be94",
   "metadata": {},
   "source": [
    "# if-elif-else statement"
   ]
  },
  {
   "cell_type": "code",
   "execution_count": 10,
   "id": "4f7e2f7e",
   "metadata": {},
   "outputs": [
    {
     "name": "stdout",
     "output_type": "stream",
     "text": [
      "FAILED!\n"
     ]
    }
   ],
   "source": [
    "grade = 2.0\n",
    "#evaluate grade\n",
    "if grade >= 5.0:\n",
    "        print(\"PASSED!\")\n",
    "elif grade < 5.0: # < 5.0 evaluated first\n",
    "        print(\"FAILED!\")\n",
    "elif grade < 3.0:\n",
    "        print(\"DISMISSED!\")\n",
    "else:\n",
    "        print (\"INVALID!\")"
   ]
  },
  {
   "cell_type": "code",
   "execution_count": 1,
   "id": "ce0a9667",
   "metadata": {},
   "outputs": [
    {
     "name": "stdout",
     "output_type": "stream",
     "text": [
      "PASSED!\n"
     ]
    }
   ],
   "source": [
    "grade = 5.0\n",
    "#evaluate grade\n",
    "if grade >= 5.0:\n",
    "        print(\"PASSED!\")\n",
    "elif grade < 3.0: # < 3.0 evaluated first\n",
    "        print(\"DISMISSED!\")\n",
    "elif grade < 5.0:\n",
    "        print(\"FAILED!\")\n",
    "else:\n",
    "        print (\"INVALID!\")"
   ]
  },
  {
   "cell_type": "code",
   "execution_count": null,
   "id": "4ca05477",
   "metadata": {},
   "outputs": [],
   "source": []
  }
 ],
 "metadata": {
  "kernelspec": {
   "display_name": "Python 3",
   "language": "python",
   "name": "python3"
  },
  "language_info": {
   "codemirror_mode": {
    "name": "ipython",
    "version": 3
   },
   "file_extension": ".py",
   "mimetype": "text/x-python",
   "name": "python",
   "nbconvert_exporter": "python",
   "pygments_lexer": "ipython3",
   "version": "3.13.3"
  }
 },
 "nbformat": 4,
 "nbformat_minor": 5
}
