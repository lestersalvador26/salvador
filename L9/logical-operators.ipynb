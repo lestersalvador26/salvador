{
 "cells": [
  {
   "cell_type": "markdown",
   "metadata": {},
   "source": [
    "# Logical Operators <hr style= \"border:2.5px solid #126782\"></hr> "
   ]
  },
  {
   "cell_type": "markdown",
   "metadata": {},
   "source": [
    "Data Analyst: Marc Lester Salvador <br> Department: Electrical Engineering\n"
   ]
  },
  {
   "cell_type": "markdown",
   "metadata": {},
   "source": [
    "# Logical AND"
   ]
  },
  {
   "cell_type": "code",
   "execution_count": 7,
   "metadata": {},
   "outputs": [
    {
     "name": "stdout",
     "output_type": "stream",
     "text": [
      "at least one is false\n"
     ]
    }
   ],
   "source": [
    "# a AND b must be true\n",
    "a= True\n",
    "b= False\n",
    "\n",
    "if a and b:\n",
    "        print (\"both are true\")\n",
    "elif not(a) and not(b):\n",
    "        print (\"both are false\")\n",
    "else: \n",
    "        print (\"at least one is false\")"
   ]
  },
  {
   "cell_type": "code",
   "execution_count": 23,
   "metadata": {},
   "outputs": [
    {
     "name": "stdout",
     "output_type": "stream",
     "text": [
      "50 is out of range\n"
     ]
    }
   ],
   "source": [
    "# check if a is within range of 1 to 30\n",
    "a = 50\n",
    "\n",
    "if a > 0 and a <= 10:\n",
    "        print (str(a) + \" is within the range of 1 to 10\")\n",
    "elif a > 10 and a <= 20:\n",
    "        print (str(a) + \" is within the range of 11 to 20\")\n",
    "elif a > 20 and a <= 30:\n",
    "        print (str(a) + \" is within the range of 21 to 30\")\n",
    "else: \n",
    "        print(str(a)+ \" is out of range\")"
   ]
  },
  {
   "cell_type": "code",
   "execution_count": 24,
   "metadata": {},
   "outputs": [
    {
     "name": "stdout",
     "output_type": "stream",
     "text": [
      "at least one is true\n"
     ]
    }
   ],
   "source": [
    "# either a OR b must be true\n",
    "# a AND b must be true\n",
    "a= True\n",
    "b= False\n",
    "\n",
    "if a or b:\n",
    "        print (\"at least one is true\")\n",
    "else: \n",
    "        print (\"both are false\")"
   ]
  },
  {
   "cell_type": "code",
   "execution_count": 25,
   "metadata": {},
   "outputs": [
    {
     "name": "stdout",
     "output_type": "stream",
     "text": [
      "Bring an umbrella or stay indoors!\n"
     ]
    }
   ],
   "source": [
    "# Go outside or stay indoors\n",
    "weather = \"rainy\"\n",
    "\n",
    "if(weather == 'rainy') or (weather == 'stormy'):\n",
    "        print (\"Bring an umbrella or stay indoors!\")\n",
    "elif(weather == 'sunny') or (weather == 'clear'):\n",
    "        print(\"It's a great day to go outside!\")\n",
    "else: \n",
    "        print(\"The weather is unpredictable today\")"
   ]
  },
  {
   "cell_type": "markdown",
   "metadata": {},
   "source": [
    "# Logical NOT"
   ]
  },
  {
   "cell_type": "code",
   "execution_count": 26,
   "metadata": {},
   "outputs": [
    {
     "data": {
      "text/plain": [
       "True"
      ]
     },
     "execution_count": 26,
     "metadata": {},
     "output_type": "execute_result"
    }
   ],
   "source": [
    "# negates the logical state\n",
    "a = False\n",
    "not a"
   ]
  },
  {
   "cell_type": "code",
   "execution_count": 30,
   "metadata": {},
   "outputs": [
    {
     "name": "stdout",
     "output_type": "stream",
     "text": [
      "8 is even\n"
     ]
    }
   ],
   "source": [
    "a = 8\n",
    "if a%2 == 0:\n",
    "        print (str(a) + \" is even\")\n",
    "else: \n",
    "        print (str(a) + \" is odd\")"
   ]
  },
  {
   "cell_type": "code",
   "execution_count": null,
   "metadata": {},
   "outputs": [],
   "source": []
  }
 ],
 "metadata": {
  "kernelspec": {
   "display_name": "Python 3",
   "language": "python",
   "name": "python3"
  },
  "language_info": {
   "codemirror_mode": {
    "name": "ipython",
    "version": 3
   },
   "file_extension": ".py",
   "mimetype": "text/x-python",
   "name": "python",
   "nbconvert_exporter": "python",
   "pygments_lexer": "ipython3",
   "version": "3.9.0"
  }
 },
 "nbformat": 4,
 "nbformat_minor": 2
}
